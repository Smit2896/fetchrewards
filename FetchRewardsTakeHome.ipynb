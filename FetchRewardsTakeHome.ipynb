{
 "cells": [
  {
   "cell_type": "code",
   "execution_count": null,
   "metadata": {},
   "outputs": [],
   "source": [
    "import json\n",
    "import pandas as pd\n",
    "import datetime\n",
    "import numpy as np"
   ]
  },
  {
   "cell_type": "code",
   "execution_count": null,
   "metadata": {},
   "outputs": [],
   "source": [
    "def open_json(filename):\n",
    "    \"\"\"\n",
    "    This Function Converts Json Lines to Pandas DataFrame\n",
    "    parameters: Location\n",
    "    output    : Dataframe\n",
    "    \"\"\"\n",
    "    with open(filename) as f:\n",
    "        lines = f.read().splitlines()\n",
    "    df = pd.DataFrame(lines)\n",
    "    df.columns = ['json_element']\n",
    "    df['json_element'].apply(json.loads)\n",
    "    return pd.json_normalize(df['json_element'].apply(json.loads))"
   ]
  },
  {
   "cell_type": "code",
   "execution_count": null,
   "metadata": {},
   "outputs": [],
   "source": [
    "### converting json files to dataframes\n",
    "users = open_json('users.json')\n",
    "receipts = open_json('receipts.json')\n",
    "brands = open_json('brands.json')"
   ]
  },
  {
   "cell_type": "code",
   "execution_count": null,
   "metadata": {},
   "outputs": [],
   "source": [
    "### renaming some columns for better readability and usability\n",
    "users.rename(columns={'_id.$oid':'userId'},inplace=True)\n",
    "brands.rename(columns={'_id.$oid':'brandId'},inplace=True)\n",
    "receipts.rename(columns={'_id.$oid':'receiptId'},inplace=True)"
   ]
  },
  {
   "cell_type": "code",
   "execution_count": null,
   "metadata": {},
   "outputs": [],
   "source": [
    "len(users)"
   ]
  },
  {
   "cell_type": "code",
   "execution_count": null,
   "metadata": {},
   "outputs": [],
   "source": [
    "users['userId'].nunique()"
   ]
  },
  {
   "cell_type": "markdown",
   "metadata": {},
   "source": [
    "I noticed there are 495 total rows in users table - out of this only 212 are unique. Now, that's interesting!\n",
    "There might be duplicates. Let's check that."
   ]
  },
  {
   "cell_type": "code",
   "execution_count": null,
   "metadata": {},
   "outputs": [],
   "source": [
    "users.drop_duplicates(inplace=True)"
   ]
  },
  {
   "cell_type": "code",
   "execution_count": null,
   "metadata": {},
   "outputs": [],
   "source": [
    "len(users)"
   ]
  },
  {
   "cell_type": "markdown",
   "metadata": {},
   "source": [
    "After dropping duplicates - we are left with 212 rows. So, here our hypothesis was right."
   ]
  },
  {
   "cell_type": "markdown",
   "metadata": {},
   "source": [
    "Similarly, lets check the same for other two tables."
   ]
  },
  {
   "cell_type": "code",
   "execution_count": null,
   "metadata": {},
   "outputs": [],
   "source": [
    "len(brands) ==  brands['brandId'].nunique() #all rows are unique"
   ]
  },
  {
   "cell_type": "code",
   "execution_count": null,
   "metadata": {},
   "outputs": [],
   "source": [
    "len(receipts) ==  receipts['receiptId'].nunique() #all rows are unique"
   ]
  },
  {
   "cell_type": "markdown",
   "metadata": {},
   "source": [
    "Here, the *users* and *brands* tables are in good form. I say they are in 3NF and are ready to be the data warehouse."
   ]
  },
  {
   "cell_type": "markdown",
   "metadata": {},
   "source": [
    "Now, lets have a look at *receipts* table"
   ]
  },
  {
   "cell_type": "markdown",
   "metadata": {},
   "source": [
    "Here, there are lots of *NaN* present - which is one of the Data Quality issues that we will discuss in the later sections.\n",
    "Basically, here, if there *NaN* in the *rewardsReceiptItemList* - it is not useful for the further analysis.So, we will remove the rows that do not have any data in *rewardsReceiptItemList* column"
   ]
  },
  {
   "cell_type": "code",
   "execution_count": null,
   "metadata": {},
   "outputs": [],
   "source": [
    "receipts = receipts[receipts['rewardsReceiptItemList'].notna()] \n",
    "receipts"
   ]
  },
  {
   "cell_type": "markdown",
   "metadata": {},
   "source": [
    "Here, the *rewardsReceiptItemList* has multiple values. In order to have a single value for each item in the receipt - I will explode this column."
   ]
  },
  {
   "cell_type": "code",
   "execution_count": null,
   "metadata": {},
   "outputs": [],
   "source": [
    "R = receipts.explode('rewardsReceiptItemList',ignore_index=True)\n",
    "R"
   ]
  },
  {
   "cell_type": "markdown",
   "metadata": {},
   "source": [
    "In SQL, we can use *json_extract* or some other in built fucntion to query specific brands info for the receipts we care about.\n",
    "But, for the simplicity, I am going to extract barcodes from the *rewardsReceiptItemList* column.\n",
    "\n",
    "Essentially, we would like to keep the *rewardsReceiptItemList* column as removing it will cause as loss of information"
   ]
  },
  {
   "cell_type": "code",
   "execution_count": null,
   "metadata": {},
   "outputs": [],
   "source": [
    "R['barcode'] = \"\"\n",
    "for idx, row in R.iterrows():\n",
    "    try:\n",
    "        if row['rewardsReceiptItemList']['barcode']:\n",
    "            R.loc[idx,'barcode'] = row['rewardsReceiptItemList']['barcode']\n",
    "            #row['barcode'] = row['rewardsReceiptItemList']['barcode']\n",
    "    except:\n",
    "        #print(row['rewardsReceiptItemList'])\n",
    "        R.loc[idx,'barcode'] = 'No Barcode'\n",
    "        pass"
   ]
  },
  {
   "cell_type": "code",
   "execution_count": null,
   "metadata": {},
   "outputs": [],
   "source": [
    "R"
   ]
  },
  {
   "cell_type": "markdown",
   "metadata": {},
   "source": [
    "Here, we have all the tables ready to go the Database/Datawarehouse."
   ]
  },
  {
   "cell_type": "code",
   "execution_count": null,
   "metadata": {},
   "outputs": [],
   "source": []
  },
  {
   "cell_type": "code",
   "execution_count": null,
   "metadata": {},
   "outputs": [],
   "source": []
  },
  {
   "cell_type": "code",
   "execution_count": null,
   "metadata": {},
   "outputs": [],
   "source": []
  }
 ],
 "metadata": {
  "kernelspec": {
   "display_name": "Python 3",
   "language": "python",
   "name": "python3"
  },
  "language_info": {
   "codemirror_mode": {
    "name": "ipython",
    "version": 3
   },
   "file_extension": ".py",
   "mimetype": "text/x-python",
   "name": "python",
   "nbconvert_exporter": "python",
   "pygments_lexer": "ipython3",
   "version": "3.8.2"
  }
 },
 "nbformat": 4,
 "nbformat_minor": 4
}
